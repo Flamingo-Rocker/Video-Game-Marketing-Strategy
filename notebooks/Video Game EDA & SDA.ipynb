{
 "cells": [
  {
   "cell_type": "markdown",
   "metadata": {},
   "source": [
    "### **Ice Marketing Campaign Strategy 2017**"
   ]
  },
  {
   "cell_type": "markdown",
   "metadata": {},
   "source": [
    "#### **1. Introduction**\n",
    "- The objective of this product is to develop an advertising strategy for projected winners in the video game sector.\n",
    "- Historical video game sales data will be analyzed to inform the forecast and identify potential big winners that should garner advertising support proportional to their sales.\n",
    "- The dataset is the aggregation of several open sources providing insights on user and expert reviews, platforms, and historical sales data."
   ]
  },
  {
   "cell_type": "markdown",
   "metadata": {},
   "source": [
    "#### **2. Approach**\n",
    "The dataset will be analyzed to understand the following:\n",
    "- Sales Performance Across Different Platforms at Different Points in Time\n",
    "- Impact of User and Professional Reviews on Sales\n",
    "- Profitability Across Different Genres\n",
    "- Regional User Profiles\n",
    "\n",
    "The project will consist of the following stages:\n",
    "1. Data Preparation\n",
    "2. Data Analysis\n",
    "3. Regional User Profile Definition\n",
    "4. Hypothesis Testing\n",
    "5. Conclusion"
   ]
  }
 ],
 "metadata": {
  "language_info": {
   "name": "python"
  }
 },
 "nbformat": 4,
 "nbformat_minor": 2
}
